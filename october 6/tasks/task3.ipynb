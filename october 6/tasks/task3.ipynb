{
 "cells": [
  {
   "cell_type": "code",
   "id": "initial_id",
   "metadata": {
    "collapsed": true,
    "ExecuteTime": {
     "end_time": "2025-10-06T11:23:53.118339Z",
     "start_time": "2025-10-06T11:23:53.026012Z"
    }
   },
   "source": [
    "import pandas as pd\n",
    "import logging\n",
    "\n",
    "from numpy.f2py.crackfortran import externalpattern"
   ],
   "outputs": [],
   "execution_count": 9
  },
  {
   "metadata": {
    "ExecuteTime": {
     "end_time": "2025-10-06T11:23:54.277430Z",
     "start_time": "2025-10-06T11:23:54.268533Z"
    }
   },
   "cell_type": "code",
   "source": "logging.basicConfig(filename='task3.log', level=logging.INFO, format='%(asctime)s - %(levelname)s - %(message)s')",
   "id": "d9ea6b1b482dc29d",
   "outputs": [],
   "execution_count": 10
  },
  {
   "metadata": {
    "ExecuteTime": {
     "end_time": "2025-10-06T11:23:55.703469Z",
     "start_time": "2025-10-06T11:23:55.696057Z"
    }
   },
   "cell_type": "code",
   "source": [
    "data = {\n",
    "    'product': ['Laptop', 'Mouse', 'Keyboard'],\n",
    "    'price': [70000, 500, 1200],\n",
    "    'quantity': [2, 5, 3]\n",
    "}"
   ],
   "id": "55f8783d8629977d",
   "outputs": [],
   "execution_count": 11
  },
  {
   "metadata": {
    "ExecuteTime": {
     "end_time": "2025-10-06T11:24:06.283446Z",
     "start_time": "2025-10-06T11:24:06.255717Z"
    }
   },
   "cell_type": "code",
   "source": [
    "df=pd.DataFrame(data)\n",
    "\n",
    "try:\n",
    "    df.to_csv(\"sales.csv\",index=False)\n",
    "except FileExistsError as e:\n",
    "    print(e)\n",
    "    logging.warning(\"sales.csv already exists\")\n",
    "logging.info(\"Data saved csv created\")"
   ],
   "id": "2604d01b2edda0e9",
   "outputs": [],
   "execution_count": 13
  },
  {
   "metadata": {
    "ExecuteTime": {
     "end_time": "2025-10-06T11:24:11.100845Z",
     "start_time": "2025-10-06T11:24:11.085597Z"
    }
   },
   "cell_type": "code",
   "source": [
    "try:\n",
    "    a=pd.read_csv(\"sales.csv\")\n",
    "    logging.info(\"read csv successfully\")\n",
    "except FileNotFoundError as e:\n",
    "    print(e)\n",
    "    logging.error(\"File not found\")"
   ],
   "id": "bfcdbe702d427fc8",
   "outputs": [],
   "execution_count": 14
  },
  {
   "metadata": {
    "ExecuteTime": {
     "end_time": "2025-10-06T11:24:15.397222Z",
     "start_time": "2025-10-06T11:24:15.387221Z"
    }
   },
   "cell_type": "code",
   "source": [
    "try:\n",
    "    a[\"total_sales\"]=a[\"price\"]*a[\"quantity\"]\n",
    "except ValueError as e:\n",
    "    print(e)\n",
    "    logging.error(\"Value error needs numeric values\")"
   ],
   "id": "feeb88954844243b",
   "outputs": [],
   "execution_count": 15
  },
  {
   "metadata": {
    "ExecuteTime": {
     "end_time": "2025-10-06T11:24:20.110979Z",
     "start_time": "2025-10-06T11:24:20.089762Z"
    }
   },
   "cell_type": "code",
   "source": "a.head()",
   "id": "ec22f17d89d48be4",
   "outputs": [
    {
     "data": {
      "text/plain": [
       "    product  price  quantity  total_sales\n",
       "0    Laptop  70000         2       140000\n",
       "1     Mouse    500         5         2500\n",
       "2  Keyboard   1200         3         3600"
      ],
      "text/html": [
       "<div>\n",
       "<style scoped>\n",
       "    .dataframe tbody tr th:only-of-type {\n",
       "        vertical-align: middle;\n",
       "    }\n",
       "\n",
       "    .dataframe tbody tr th {\n",
       "        vertical-align: top;\n",
       "    }\n",
       "\n",
       "    .dataframe thead th {\n",
       "        text-align: right;\n",
       "    }\n",
       "</style>\n",
       "<table border=\"1\" class=\"dataframe\">\n",
       "  <thead>\n",
       "    <tr style=\"text-align: right;\">\n",
       "      <th></th>\n",
       "      <th>product</th>\n",
       "      <th>price</th>\n",
       "      <th>quantity</th>\n",
       "      <th>total_sales</th>\n",
       "    </tr>\n",
       "  </thead>\n",
       "  <tbody>\n",
       "    <tr>\n",
       "      <th>0</th>\n",
       "      <td>Laptop</td>\n",
       "      <td>70000</td>\n",
       "      <td>2</td>\n",
       "      <td>140000</td>\n",
       "    </tr>\n",
       "    <tr>\n",
       "      <th>1</th>\n",
       "      <td>Mouse</td>\n",
       "      <td>500</td>\n",
       "      <td>5</td>\n",
       "      <td>2500</td>\n",
       "    </tr>\n",
       "    <tr>\n",
       "      <th>2</th>\n",
       "      <td>Keyboard</td>\n",
       "      <td>1200</td>\n",
       "      <td>3</td>\n",
       "      <td>3600</td>\n",
       "    </tr>\n",
       "  </tbody>\n",
       "</table>\n",
       "</div>"
      ]
     },
     "execution_count": 16,
     "metadata": {},
     "output_type": "execute_result"
    }
   ],
   "execution_count": 16
  },
  {
   "metadata": {
    "ExecuteTime": {
     "end_time": "2025-10-06T11:25:44.093379Z",
     "start_time": "2025-10-06T11:25:44.083480Z"
    }
   },
   "cell_type": "code",
   "source": [
    "for index,row in a.iterrows():\n",
    "    logging.info(f\"{row['product']}--{row['total_sales']}\")"
   ],
   "id": "32f58328190ed858",
   "outputs": [],
   "execution_count": 19
  },
  {
   "metadata": {},
   "cell_type": "code",
   "outputs": [],
   "execution_count": null,
   "source": "",
   "id": "f750ac9cf54d3f9e"
  }
 ],
 "metadata": {
  "kernelspec": {
   "display_name": "Python 3",
   "language": "python",
   "name": "python3"
  },
  "language_info": {
   "codemirror_mode": {
    "name": "ipython",
    "version": 2
   },
   "file_extension": ".py",
   "mimetype": "text/x-python",
   "name": "python",
   "nbconvert_exporter": "python",
   "pygments_lexer": "ipython2",
   "version": "2.7.6"
  }
 },
 "nbformat": 4,
 "nbformat_minor": 5
}
